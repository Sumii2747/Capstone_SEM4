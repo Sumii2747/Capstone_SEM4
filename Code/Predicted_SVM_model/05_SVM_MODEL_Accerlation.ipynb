{
 "cells": [
  {
   "cell_type": "code",
   "execution_count": 2,
   "id": "2ddf32c3",
   "metadata": {},
   "outputs": [],
   "source": [
    "import numpy as np \n",
    "import pandas as pd \n",
    "from sklearn.svm import SVC\n",
    "import Cleanup\n"
   ]
  },
  {
   "cell_type": "code",
   "execution_count": 4,
   "id": "248642e7",
   "metadata": {},
   "outputs": [],
   "source": [
    "train_df = pd.read_csv(\"train_df.csv\")\n",
    "test_df = pd.read_csv(\"test_df.csv\")\n"
   ]
  },
  {
   "cell_type": "code",
   "execution_count": 5,
   "id": "b4bd72d9",
   "metadata": {},
   "outputs": [],
   "source": [
    "train_df = train_df.drop(['Unnamed: 0'],axis = 1)\n",
    "test_df = test_df.drop(['Unnamed: 0'],axis = 1)"
   ]
  },
  {
   "cell_type": "code",
   "execution_count": 6,
   "id": "39d6289d",
   "metadata": {},
   "outputs": [
    {
     "data": {
      "text/plain": [
       "1043"
      ]
     },
     "execution_count": 6,
     "metadata": {},
     "output_type": "execute_result"
    }
   ],
   "source": [
    "len(train_df['L-F_Pair'].unique())\n"
   ]
  },
  {
   "cell_type": "code",
   "execution_count": 7,
   "id": "bada51de",
   "metadata": {},
   "outputs": [
    {
     "data": {
      "text/plain": [
       "261"
      ]
     },
     "execution_count": 7,
     "metadata": {},
     "output_type": "execute_result"
    }
   ],
   "source": [
    "len(test_df['L-F_Pair'].unique())"
   ]
  },
  {
   "cell_type": "code",
   "execution_count": 9,
   "id": "b012d509",
   "metadata": {},
   "outputs": [],
   "source": [
    " def create_prediction_columns(df, n):\n",
    "        '''\n",
    "        create the prediction pair by shifting the actual data up by the mentioned number(0.1*n seconds) to create the timeseries info\n",
    "        '''\n",
    "        df[\"nextframeAcc\"] = df.groupby(\n",
    "            [\"L-F_Pair\"], as_index=False)[\"v_Acc\"].shift(-1*n)\n",
    "        df[\"nextframesvel\"] = df.groupby(\n",
    "            [\"L-F_Pair\"], as_index=False)[\"v_Vel\"].shift(-1*n)\n",
    "        df[\"nextframeposition\"] = df.groupby(\n",
    "            [\"L-F_Pair\"], as_index=False)[\"Local_Y\"].shift(-1*n)\n",
    "        df[\"nextFrameSpacing\"] = df.groupby(\n",
    "            [\"L-F_Pair\"], as_index=False)[\"Space_Gap\"].shift(-1*n)\n",
    "        df[\"precnextframesvel\"] = df.groupby(\n",
    "            [\"L-F_Pair\"], as_index=False)[\"v_Vel_preceding\"].shift(-1*n)\n",
    "        df = df[df['nextframeposition'].notna()]\n",
    "        df = df[df['nextframesvel'].notna()]\n",
    "        df = df[df['nextframeAcc'].notna()]\n",
    "        df = df[df['nextFrameSpacing'].notna()]\n",
    "        df = df[df['precnextframesvel'].notna()]\n",
    "\n",
    "        return df"
   ]
  },
  {
   "cell_type": "code",
   "execution_count": 10,
   "id": "9605814f",
   "metadata": {},
   "outputs": [],
   "source": [
    "train_df = create_prediction_columns(train_df,5)"
   ]
  },
  {
   "cell_type": "code",
   "execution_count": 9,
   "id": "2fc56d0f",
   "metadata": {},
   "outputs": [],
   "source": [
    "test_df = create_prediction_columns(test_df,5)"
   ]
  },
  {
   "cell_type": "code",
   "execution_count": 10,
   "id": "b6b97f65",
   "metadata": {},
   "outputs": [
    {
     "data": {
      "text/html": [
       "<div>\n",
       "<style scoped>\n",
       "    .dataframe tbody tr th:only-of-type {\n",
       "        vertical-align: middle;\n",
       "    }\n",
       "\n",
       "    .dataframe tbody tr th {\n",
       "        vertical-align: top;\n",
       "    }\n",
       "\n",
       "    .dataframe thead th {\n",
       "        text-align: right;\n",
       "    }\n",
       "</style>\n",
       "<table border=\"1\" class=\"dataframe\">\n",
       "  <thead>\n",
       "    <tr style=\"text-align: right;\">\n",
       "      <th></th>\n",
       "      <th>Vehicle_ID</th>\n",
       "      <th>Frame_ID</th>\n",
       "      <th>Local_Y</th>\n",
       "      <th>v_Length</th>\n",
       "      <th>v_Width</th>\n",
       "      <th>v_Class</th>\n",
       "      <th>v_Vel</th>\n",
       "      <th>v_Acc</th>\n",
       "      <th>Lane_ID</th>\n",
       "      <th>Preceding</th>\n",
       "      <th>...</th>\n",
       "      <th>pair_Time_Duration</th>\n",
       "      <th>total_pair_duration</th>\n",
       "      <th>Vehicle_Class</th>\n",
       "      <th>Space_Gap</th>\n",
       "      <th>Difference_of_speed</th>\n",
       "      <th>nextframeAcc</th>\n",
       "      <th>nextframesvel</th>\n",
       "      <th>nextframeposition</th>\n",
       "      <th>nextFrameSpacing</th>\n",
       "      <th>precnextframesvel</th>\n",
       "    </tr>\n",
       "  </thead>\n",
       "  <tbody>\n",
       "    <tr>\n",
       "      <th>0</th>\n",
       "      <td>1760</td>\n",
       "      <td>5683</td>\n",
       "      <td>425.375767</td>\n",
       "      <td>6.49224</td>\n",
       "      <td>8.5</td>\n",
       "      <td>3</td>\n",
       "      <td>20.498565</td>\n",
       "      <td>-0.283574</td>\n",
       "      <td>1</td>\n",
       "      <td>1754</td>\n",
       "      <td>...</td>\n",
       "      <td>0.0</td>\n",
       "      <td>11.6</td>\n",
       "      <td>Heavy Vehicle</td>\n",
       "      <td>36.277296</td>\n",
       "      <td>1.090135</td>\n",
       "      <td>-0.679115</td>\n",
       "      <td>20.775275</td>\n",
       "      <td>415.056862</td>\n",
       "      <td>35.911536</td>\n",
       "      <td>22.732894</td>\n",
       "    </tr>\n",
       "    <tr>\n",
       "      <th>1</th>\n",
       "      <td>1760</td>\n",
       "      <td>5682</td>\n",
       "      <td>423.323483</td>\n",
       "      <td>6.49224</td>\n",
       "      <td>8.5</td>\n",
       "      <td>3</td>\n",
       "      <td>20.547120</td>\n",
       "      <td>-0.474961</td>\n",
       "      <td>1</td>\n",
       "      <td>1754</td>\n",
       "      <td>...</td>\n",
       "      <td>0.1</td>\n",
       "      <td>11.6</td>\n",
       "      <td>Heavy Vehicle</td>\n",
       "      <td>36.030408</td>\n",
       "      <td>1.327031</td>\n",
       "      <td>-0.626724</td>\n",
       "      <td>20.899921</td>\n",
       "      <td>412.973103</td>\n",
       "      <td>35.856672</td>\n",
       "      <td>22.853260</td>\n",
       "    </tr>\n",
       "    <tr>\n",
       "      <th>2</th>\n",
       "      <td>1760</td>\n",
       "      <td>5681</td>\n",
       "      <td>421.265679</td>\n",
       "      <td>6.49224</td>\n",
       "      <td>8.5</td>\n",
       "      <td>3</td>\n",
       "      <td>20.608958</td>\n",
       "      <td>-0.491087</td>\n",
       "      <td>1</td>\n",
       "      <td>1754</td>\n",
       "      <td>...</td>\n",
       "      <td>0.2</td>\n",
       "      <td>11.6</td>\n",
       "      <td>Heavy Vehicle</td>\n",
       "      <td>35.920680</td>\n",
       "      <td>1.527489</td>\n",
       "      <td>-0.649260</td>\n",
       "      <td>20.943266</td>\n",
       "      <td>410.880943</td>\n",
       "      <td>35.728656</td>\n",
       "      <td>22.929306</td>\n",
       "    </tr>\n",
       "    <tr>\n",
       "      <th>3</th>\n",
       "      <td>1760</td>\n",
       "      <td>5680</td>\n",
       "      <td>419.201729</td>\n",
       "      <td>6.49224</td>\n",
       "      <td>8.5</td>\n",
       "      <td>3</td>\n",
       "      <td>20.670048</td>\n",
       "      <td>-0.463286</td>\n",
       "      <td>1</td>\n",
       "      <td>1754</td>\n",
       "      <td>...</td>\n",
       "      <td>0.3</td>\n",
       "      <td>11.6</td>\n",
       "      <td>Heavy Vehicle</td>\n",
       "      <td>35.832288</td>\n",
       "      <td>1.700222</td>\n",
       "      <td>-0.481942</td>\n",
       "      <td>20.991363</td>\n",
       "      <td>408.784212</td>\n",
       "      <td>35.661600</td>\n",
       "      <td>22.960584</td>\n",
       "    </tr>\n",
       "    <tr>\n",
       "      <th>4</th>\n",
       "      <td>1760</td>\n",
       "      <td>5679</td>\n",
       "      <td>417.131926</td>\n",
       "      <td>6.49224</td>\n",
       "      <td>8.5</td>\n",
       "      <td>3</td>\n",
       "      <td>20.725999</td>\n",
       "      <td>-0.777079</td>\n",
       "      <td>1</td>\n",
       "      <td>1754</td>\n",
       "      <td>...</td>\n",
       "      <td>0.4</td>\n",
       "      <td>11.6</td>\n",
       "      <td>Heavy Vehicle</td>\n",
       "      <td>35.814000</td>\n",
       "      <td>1.844612</td>\n",
       "      <td>-0.714591</td>\n",
       "      <td>21.120779</td>\n",
       "      <td>404.573626</td>\n",
       "      <td>35.585400</td>\n",
       "      <td>22.892418</td>\n",
       "    </tr>\n",
       "    <tr>\n",
       "      <th>...</th>\n",
       "      <td>...</td>\n",
       "      <td>...</td>\n",
       "      <td>...</td>\n",
       "      <td>...</td>\n",
       "      <td>...</td>\n",
       "      <td>...</td>\n",
       "      <td>...</td>\n",
       "      <td>...</td>\n",
       "      <td>...</td>\n",
       "      <td>...</td>\n",
       "      <td>...</td>\n",
       "      <td>...</td>\n",
       "      <td>...</td>\n",
       "      <td>...</td>\n",
       "      <td>...</td>\n",
       "      <td>...</td>\n",
       "      <td>...</td>\n",
       "      <td>...</td>\n",
       "      <td>...</td>\n",
       "      <td>...</td>\n",
       "      <td>...</td>\n",
       "    </tr>\n",
       "    <tr>\n",
       "      <th>277227</th>\n",
       "      <td>1755</td>\n",
       "      <td>7317</td>\n",
       "      <td>432.553507</td>\n",
       "      <td>5.42544</td>\n",
       "      <td>8.4</td>\n",
       "      <td>2</td>\n",
       "      <td>13.974013</td>\n",
       "      <td>0.180951</td>\n",
       "      <td>1</td>\n",
       "      <td>1749</td>\n",
       "      <td>...</td>\n",
       "      <td>31.9</td>\n",
       "      <td>32.8</td>\n",
       "      <td>Car</td>\n",
       "      <td>16.831056</td>\n",
       "      <td>1.133864</td>\n",
       "      <td>0.372719</td>\n",
       "      <td>14.113733</td>\n",
       "      <td>439.571071</td>\n",
       "      <td>16.773144</td>\n",
       "      <td>15.278563</td>\n",
       "    </tr>\n",
       "    <tr>\n",
       "      <th>277228</th>\n",
       "      <td>1755</td>\n",
       "      <td>7318</td>\n",
       "      <td>433.951878</td>\n",
       "      <td>5.42544</td>\n",
       "      <td>8.4</td>\n",
       "      <td>2</td>\n",
       "      <td>13.993415</td>\n",
       "      <td>0.207085</td>\n",
       "      <td>1</td>\n",
       "      <td>1749</td>\n",
       "      <td>...</td>\n",
       "      <td>32.0</td>\n",
       "      <td>32.8</td>\n",
       "      <td>Car</td>\n",
       "      <td>16.821912</td>\n",
       "      <td>1.212407</td>\n",
       "      <td>0.369981</td>\n",
       "      <td>14.150868</td>\n",
       "      <td>440.984301</td>\n",
       "      <td>16.684752</td>\n",
       "      <td>15.222014</td>\n",
       "    </tr>\n",
       "    <tr>\n",
       "      <th>277229</th>\n",
       "      <td>1755</td>\n",
       "      <td>7319</td>\n",
       "      <td>435.352370</td>\n",
       "      <td>5.42544</td>\n",
       "      <td>8.4</td>\n",
       "      <td>2</td>\n",
       "      <td>14.016417</td>\n",
       "      <td>0.252962</td>\n",
       "      <td>1</td>\n",
       "      <td>1749</td>\n",
       "      <td>...</td>\n",
       "      <td>32.1</td>\n",
       "      <td>32.8</td>\n",
       "      <td>Car</td>\n",
       "      <td>16.843248</td>\n",
       "      <td>1.254982</td>\n",
       "      <td>0.370157</td>\n",
       "      <td>14.187875</td>\n",
       "      <td>442.401238</td>\n",
       "      <td>16.605504</td>\n",
       "      <td>15.138900</td>\n",
       "    </tr>\n",
       "    <tr>\n",
       "      <th>277230</th>\n",
       "      <td>1755</td>\n",
       "      <td>7320</td>\n",
       "      <td>436.755413</td>\n",
       "      <td>5.42544</td>\n",
       "      <td>8.4</td>\n",
       "      <td>2</td>\n",
       "      <td>14.044461</td>\n",
       "      <td>0.307920</td>\n",
       "      <td>1</td>\n",
       "      <td>1749</td>\n",
       "      <td>...</td>\n",
       "      <td>32.2</td>\n",
       "      <td>32.8</td>\n",
       "      <td>Car</td>\n",
       "      <td>16.858488</td>\n",
       "      <td>1.260305</td>\n",
       "      <td>0.568790</td>\n",
       "      <td>14.234822</td>\n",
       "      <td>443.822373</td>\n",
       "      <td>16.565880</td>\n",
       "      <td>15.030022</td>\n",
       "    </tr>\n",
       "    <tr>\n",
       "      <th>277231</th>\n",
       "      <td>1755</td>\n",
       "      <td>7321</td>\n",
       "      <td>438.161510</td>\n",
       "      <td>5.42544</td>\n",
       "      <td>8.4</td>\n",
       "      <td>2</td>\n",
       "      <td>14.077477</td>\n",
       "      <td>0.352398</td>\n",
       "      <td>1</td>\n",
       "      <td>1749</td>\n",
       "      <td>...</td>\n",
       "      <td>32.3</td>\n",
       "      <td>32.8</td>\n",
       "      <td>Car</td>\n",
       "      <td>16.837152</td>\n",
       "      <td>1.229260</td>\n",
       "      <td>1.250826</td>\n",
       "      <td>14.325803</td>\n",
       "      <td>445.250404</td>\n",
       "      <td>16.596360</td>\n",
       "      <td>14.895152</td>\n",
       "    </tr>\n",
       "  </tbody>\n",
       "</table>\n",
       "<p>272064 rows × 33 columns</p>\n",
       "</div>"
      ],
      "text/plain": [
       "        Vehicle_ID  Frame_ID     Local_Y  v_Length  v_Width  v_Class  \\\n",
       "0             1760      5683  425.375767   6.49224      8.5        3   \n",
       "1             1760      5682  423.323483   6.49224      8.5        3   \n",
       "2             1760      5681  421.265679   6.49224      8.5        3   \n",
       "3             1760      5680  419.201729   6.49224      8.5        3   \n",
       "4             1760      5679  417.131926   6.49224      8.5        3   \n",
       "...            ...       ...         ...       ...      ...      ...   \n",
       "277227        1755      7317  432.553507   5.42544      8.4        2   \n",
       "277228        1755      7318  433.951878   5.42544      8.4        2   \n",
       "277229        1755      7319  435.352370   5.42544      8.4        2   \n",
       "277230        1755      7320  436.755413   5.42544      8.4        2   \n",
       "277231        1755      7321  438.161510   5.42544      8.4        2   \n",
       "\n",
       "            v_Vel     v_Acc  Lane_ID  Preceding  ...  pair_Time_Duration  \\\n",
       "0       20.498565 -0.283574        1       1754  ...                 0.0   \n",
       "1       20.547120 -0.474961        1       1754  ...                 0.1   \n",
       "2       20.608958 -0.491087        1       1754  ...                 0.2   \n",
       "3       20.670048 -0.463286        1       1754  ...                 0.3   \n",
       "4       20.725999 -0.777079        1       1754  ...                 0.4   \n",
       "...           ...       ...      ...        ...  ...                 ...   \n",
       "277227  13.974013  0.180951        1       1749  ...                31.9   \n",
       "277228  13.993415  0.207085        1       1749  ...                32.0   \n",
       "277229  14.016417  0.252962        1       1749  ...                32.1   \n",
       "277230  14.044461  0.307920        1       1749  ...                32.2   \n",
       "277231  14.077477  0.352398        1       1749  ...                32.3   \n",
       "\n",
       "        total_pair_duration  Vehicle_Class  Space_Gap  Difference_of_speed  \\\n",
       "0                      11.6  Heavy Vehicle  36.277296             1.090135   \n",
       "1                      11.6  Heavy Vehicle  36.030408             1.327031   \n",
       "2                      11.6  Heavy Vehicle  35.920680             1.527489   \n",
       "3                      11.6  Heavy Vehicle  35.832288             1.700222   \n",
       "4                      11.6  Heavy Vehicle  35.814000             1.844612   \n",
       "...                     ...            ...        ...                  ...   \n",
       "277227                 32.8            Car  16.831056             1.133864   \n",
       "277228                 32.8            Car  16.821912             1.212407   \n",
       "277229                 32.8            Car  16.843248             1.254982   \n",
       "277230                 32.8            Car  16.858488             1.260305   \n",
       "277231                 32.8            Car  16.837152             1.229260   \n",
       "\n",
       "        nextframeAcc  nextframesvel  nextframeposition  nextFrameSpacing  \\\n",
       "0          -0.679115      20.775275         415.056862         35.911536   \n",
       "1          -0.626724      20.899921         412.973103         35.856672   \n",
       "2          -0.649260      20.943266         410.880943         35.728656   \n",
       "3          -0.481942      20.991363         408.784212         35.661600   \n",
       "4          -0.714591      21.120779         404.573626         35.585400   \n",
       "...              ...            ...                ...               ...   \n",
       "277227      0.372719      14.113733         439.571071         16.773144   \n",
       "277228      0.369981      14.150868         440.984301         16.684752   \n",
       "277229      0.370157      14.187875         442.401238         16.605504   \n",
       "277230      0.568790      14.234822         443.822373         16.565880   \n",
       "277231      1.250826      14.325803         445.250404         16.596360   \n",
       "\n",
       "        precnextframesvel  \n",
       "0               22.732894  \n",
       "1               22.853260  \n",
       "2               22.929306  \n",
       "3               22.960584  \n",
       "4               22.892418  \n",
       "...                   ...  \n",
       "277227          15.278563  \n",
       "277228          15.222014  \n",
       "277229          15.138900  \n",
       "277230          15.030022  \n",
       "277231          14.895152  \n",
       "\n",
       "[272064 rows x 33 columns]"
      ]
     },
     "execution_count": 10,
     "metadata": {},
     "output_type": "execute_result"
    }
   ],
   "source": [
    "train_df"
   ]
  },
  {
   "cell_type": "markdown",
   "id": "a389867a",
   "metadata": {},
   "source": [
    "### SUPPORT VECTOR MACHINE"
   ]
  },
  {
   "cell_type": "code",
   "execution_count": 11,
   "id": "4ee8404e",
   "metadata": {},
   "outputs": [],
   "source": [
    "from sklearn.svm import SVR\n",
    "from sklearn.preprocessing import StandardScaler"
   ]
  },
  {
   "cell_type": "code",
   "execution_count": 12,
   "id": "765c80fb",
   "metadata": {},
   "outputs": [],
   "source": [
    "X_train = train_df.drop(['nextframeAcc', 'Vehicle_Class', 'Location', 'Period', 'L-F_Pair'], axis = 1)\n",
    "y_train = train_df['nextframeAcc']\n",
    "X_test = test_df.drop(['nextframeAcc', 'Vehicle_Class', 'Location', 'Period', 'L-F_Pair'], axis = 1)\n",
    "y_test = test_df['nextframeAcc']"
   ]
  },
  {
   "cell_type": "code",
   "execution_count": 13,
   "id": "7fd39575",
   "metadata": {},
   "outputs": [],
   "source": [
    "sc = StandardScaler()\n",
    "sc.fit(X_train)\n",
    "X_train_std = sc.transform(X_train)\n",
    "X_test_std = sc.transform(X_test)"
   ]
  },
  {
   "cell_type": "code",
   "execution_count": 14,
   "id": "a9076824",
   "metadata": {},
   "outputs": [
    {
     "data": {
      "text/plain": [
       "0        -0.679115\n",
       "1        -0.626724\n",
       "2        -0.649260\n",
       "3        -0.481942\n",
       "4        -0.714591\n",
       "            ...   \n",
       "277227    0.372719\n",
       "277228    0.369981\n",
       "277229    0.370157\n",
       "277230    0.568790\n",
       "277231    1.250826\n",
       "Name: nextframeAcc, Length: 272064, dtype: float64"
      ]
     },
     "execution_count": 14,
     "metadata": {},
     "output_type": "execute_result"
    }
   ],
   "source": [
    "y_train"
   ]
  },
  {
   "cell_type": "code",
   "execution_count": 15,
   "id": "c7ce2f7c",
   "metadata": {},
   "outputs": [
    {
     "data": {
      "text/html": [
       "<style>#sk-container-id-1 {color: black;background-color: white;}#sk-container-id-1 pre{padding: 0;}#sk-container-id-1 div.sk-toggleable {background-color: white;}#sk-container-id-1 label.sk-toggleable__label {cursor: pointer;display: block;width: 100%;margin-bottom: 0;padding: 0.3em;box-sizing: border-box;text-align: center;}#sk-container-id-1 label.sk-toggleable__label-arrow:before {content: \"▸\";float: left;margin-right: 0.25em;color: #696969;}#sk-container-id-1 label.sk-toggleable__label-arrow:hover:before {color: black;}#sk-container-id-1 div.sk-estimator:hover label.sk-toggleable__label-arrow:before {color: black;}#sk-container-id-1 div.sk-toggleable__content {max-height: 0;max-width: 0;overflow: hidden;text-align: left;background-color: #f0f8ff;}#sk-container-id-1 div.sk-toggleable__content pre {margin: 0.2em;color: black;border-radius: 0.25em;background-color: #f0f8ff;}#sk-container-id-1 input.sk-toggleable__control:checked~div.sk-toggleable__content {max-height: 200px;max-width: 100%;overflow: auto;}#sk-container-id-1 input.sk-toggleable__control:checked~label.sk-toggleable__label-arrow:before {content: \"▾\";}#sk-container-id-1 div.sk-estimator input.sk-toggleable__control:checked~label.sk-toggleable__label {background-color: #d4ebff;}#sk-container-id-1 div.sk-label input.sk-toggleable__control:checked~label.sk-toggleable__label {background-color: #d4ebff;}#sk-container-id-1 input.sk-hidden--visually {border: 0;clip: rect(1px 1px 1px 1px);clip: rect(1px, 1px, 1px, 1px);height: 1px;margin: -1px;overflow: hidden;padding: 0;position: absolute;width: 1px;}#sk-container-id-1 div.sk-estimator {font-family: monospace;background-color: #f0f8ff;border: 1px dotted black;border-radius: 0.25em;box-sizing: border-box;margin-bottom: 0.5em;}#sk-container-id-1 div.sk-estimator:hover {background-color: #d4ebff;}#sk-container-id-1 div.sk-parallel-item::after {content: \"\";width: 100%;border-bottom: 1px solid gray;flex-grow: 1;}#sk-container-id-1 div.sk-label:hover label.sk-toggleable__label {background-color: #d4ebff;}#sk-container-id-1 div.sk-serial::before {content: \"\";position: absolute;border-left: 1px solid gray;box-sizing: border-box;top: 0;bottom: 0;left: 50%;z-index: 0;}#sk-container-id-1 div.sk-serial {display: flex;flex-direction: column;align-items: center;background-color: white;padding-right: 0.2em;padding-left: 0.2em;position: relative;}#sk-container-id-1 div.sk-item {position: relative;z-index: 1;}#sk-container-id-1 div.sk-parallel {display: flex;align-items: stretch;justify-content: center;background-color: white;position: relative;}#sk-container-id-1 div.sk-item::before, #sk-container-id-1 div.sk-parallel-item::before {content: \"\";position: absolute;border-left: 1px solid gray;box-sizing: border-box;top: 0;bottom: 0;left: 50%;z-index: -1;}#sk-container-id-1 div.sk-parallel-item {display: flex;flex-direction: column;z-index: 1;position: relative;background-color: white;}#sk-container-id-1 div.sk-parallel-item:first-child::after {align-self: flex-end;width: 50%;}#sk-container-id-1 div.sk-parallel-item:last-child::after {align-self: flex-start;width: 50%;}#sk-container-id-1 div.sk-parallel-item:only-child::after {width: 0;}#sk-container-id-1 div.sk-dashed-wrapped {border: 1px dashed gray;margin: 0 0.4em 0.5em 0.4em;box-sizing: border-box;padding-bottom: 0.4em;background-color: white;}#sk-container-id-1 div.sk-label label {font-family: monospace;font-weight: bold;display: inline-block;line-height: 1.2em;}#sk-container-id-1 div.sk-label-container {text-align: center;}#sk-container-id-1 div.sk-container {/* jupyter's `normalize.less` sets `[hidden] { display: none; }` but bootstrap.min.css set `[hidden] { display: none !important; }` so we also need the `!important` here to be able to override the default hidden behavior on the sphinx rendered scikit-learn.org. See: https://github.com/scikit-learn/scikit-learn/issues/21755 */display: inline-block !important;position: relative;}#sk-container-id-1 div.sk-text-repr-fallback {display: none;}</style><div id=\"sk-container-id-1\" class=\"sk-top-container\"><div class=\"sk-text-repr-fallback\"><pre>SVR(epsilon=0.2)</pre><b>In a Jupyter environment, please rerun this cell to show the HTML representation or trust the notebook. <br />On GitHub, the HTML representation is unable to render, please try loading this page with nbviewer.org.</b></div><div class=\"sk-container\" hidden><div class=\"sk-item\"><div class=\"sk-estimator sk-toggleable\"><input class=\"sk-toggleable__control sk-hidden--visually\" id=\"sk-estimator-id-1\" type=\"checkbox\" checked><label for=\"sk-estimator-id-1\" class=\"sk-toggleable__label sk-toggleable__label-arrow\">SVR</label><div class=\"sk-toggleable__content\"><pre>SVR(epsilon=0.2)</pre></div></div></div></div></div>"
      ],
      "text/plain": [
       "SVR(epsilon=0.2)"
      ]
     },
     "execution_count": 15,
     "metadata": {},
     "output_type": "execute_result"
    }
   ],
   "source": [
    "# Instantiate the Support Vector Regressor \n",
    "svr= SVR(C=1.0, epsilon=0.2)\n",
    " \n",
    "# Fit the model\n",
    "svr.fit(X_train_std, y_train)"
   ]
  },
  {
   "cell_type": "code",
   "execution_count": 16,
   "id": "e18a5b04",
   "metadata": {},
   "outputs": [],
   "source": [
    "# Make the predictions\n",
    "y_predict = svr.predict(X_test_std)"
   ]
  },
  {
   "cell_type": "markdown",
   "id": "74dadee4",
   "metadata": {},
   "source": [
    "### Calculating R2 and RMSE "
   ]
  },
  {
   "cell_type": "code",
   "execution_count": 17,
   "id": "bfca5578",
   "metadata": {},
   "outputs": [
    {
     "data": {
      "text/plain": [
       "0.17530829195378136"
      ]
     },
     "execution_count": 17,
     "metadata": {},
     "output_type": "execute_result"
    }
   ],
   "source": [
    "from sklearn.metrics import r2_score , mean_squared_error\n",
    "\n",
    "mean_squared_error(y_test, y_predict)"
   ]
  },
  {
   "cell_type": "code",
   "execution_count": 18,
   "id": "0342731b",
   "metadata": {},
   "outputs": [
    {
     "data": {
      "text/plain": [
       "0.5452114318304078"
      ]
     },
     "execution_count": 18,
     "metadata": {},
     "output_type": "execute_result"
    }
   ],
   "source": [
    "r2_score(y_test, y_predict)"
   ]
  },
  {
   "cell_type": "markdown",
   "id": "1c99c783",
   "metadata": {},
   "source": [
    "### Reaction time of 1s"
   ]
  },
  {
   "cell_type": "code",
   "execution_count": 11,
   "id": "b5642820",
   "metadata": {},
   "outputs": [],
   "source": [
    "train_df_1 = create_prediction_columns(train_df,10)"
   ]
  },
  {
   "cell_type": "code",
   "execution_count": 12,
   "id": "e62d0e45",
   "metadata": {},
   "outputs": [],
   "source": [
    "test_df_1 = create_prediction_columns(test_df,10)"
   ]
  },
  {
   "cell_type": "code",
   "execution_count": 13,
   "id": "59fa71ed",
   "metadata": {},
   "outputs": [],
   "source": [
    "X_train = train_df_1.drop(['nextframeAcc', 'Vehicle_Class', 'Location', 'Period', 'L-F_Pair'], axis = 1)\n",
    "y_train = train_df_1['nextframeAcc']\n",
    "X_test = test_df_1.drop(['nextframeAcc', 'Vehicle_Class', 'Location', 'Period', 'L-F_Pair'], axis = 1)\n",
    "y_test = test_df_1['nextframeAcc']"
   ]
  },
  {
   "cell_type": "code",
   "execution_count": 18,
   "id": "16d81219",
   "metadata": {},
   "outputs": [],
   "source": [
    "from sklearn.preprocessing import StandardScaler\n",
    "from sklearn.svm import SVR\n",
    "sc = StandardScaler()\n",
    "sc.fit(X_train)\n",
    "X_train_std = sc.transform(X_train)\n",
    "X_test_std = sc.transform(X_test)"
   ]
  },
  {
   "cell_type": "code",
   "execution_count": 19,
   "id": "079f4df3",
   "metadata": {},
   "outputs": [
    {
     "data": {
      "text/html": [
       "<style>#sk-container-id-1 {color: black;background-color: white;}#sk-container-id-1 pre{padding: 0;}#sk-container-id-1 div.sk-toggleable {background-color: white;}#sk-container-id-1 label.sk-toggleable__label {cursor: pointer;display: block;width: 100%;margin-bottom: 0;padding: 0.3em;box-sizing: border-box;text-align: center;}#sk-container-id-1 label.sk-toggleable__label-arrow:before {content: \"▸\";float: left;margin-right: 0.25em;color: #696969;}#sk-container-id-1 label.sk-toggleable__label-arrow:hover:before {color: black;}#sk-container-id-1 div.sk-estimator:hover label.sk-toggleable__label-arrow:before {color: black;}#sk-container-id-1 div.sk-toggleable__content {max-height: 0;max-width: 0;overflow: hidden;text-align: left;background-color: #f0f8ff;}#sk-container-id-1 div.sk-toggleable__content pre {margin: 0.2em;color: black;border-radius: 0.25em;background-color: #f0f8ff;}#sk-container-id-1 input.sk-toggleable__control:checked~div.sk-toggleable__content {max-height: 200px;max-width: 100%;overflow: auto;}#sk-container-id-1 input.sk-toggleable__control:checked~label.sk-toggleable__label-arrow:before {content: \"▾\";}#sk-container-id-1 div.sk-estimator input.sk-toggleable__control:checked~label.sk-toggleable__label {background-color: #d4ebff;}#sk-container-id-1 div.sk-label input.sk-toggleable__control:checked~label.sk-toggleable__label {background-color: #d4ebff;}#sk-container-id-1 input.sk-hidden--visually {border: 0;clip: rect(1px 1px 1px 1px);clip: rect(1px, 1px, 1px, 1px);height: 1px;margin: -1px;overflow: hidden;padding: 0;position: absolute;width: 1px;}#sk-container-id-1 div.sk-estimator {font-family: monospace;background-color: #f0f8ff;border: 1px dotted black;border-radius: 0.25em;box-sizing: border-box;margin-bottom: 0.5em;}#sk-container-id-1 div.sk-estimator:hover {background-color: #d4ebff;}#sk-container-id-1 div.sk-parallel-item::after {content: \"\";width: 100%;border-bottom: 1px solid gray;flex-grow: 1;}#sk-container-id-1 div.sk-label:hover label.sk-toggleable__label {background-color: #d4ebff;}#sk-container-id-1 div.sk-serial::before {content: \"\";position: absolute;border-left: 1px solid gray;box-sizing: border-box;top: 0;bottom: 0;left: 50%;z-index: 0;}#sk-container-id-1 div.sk-serial {display: flex;flex-direction: column;align-items: center;background-color: white;padding-right: 0.2em;padding-left: 0.2em;position: relative;}#sk-container-id-1 div.sk-item {position: relative;z-index: 1;}#sk-container-id-1 div.sk-parallel {display: flex;align-items: stretch;justify-content: center;background-color: white;position: relative;}#sk-container-id-1 div.sk-item::before, #sk-container-id-1 div.sk-parallel-item::before {content: \"\";position: absolute;border-left: 1px solid gray;box-sizing: border-box;top: 0;bottom: 0;left: 50%;z-index: -1;}#sk-container-id-1 div.sk-parallel-item {display: flex;flex-direction: column;z-index: 1;position: relative;background-color: white;}#sk-container-id-1 div.sk-parallel-item:first-child::after {align-self: flex-end;width: 50%;}#sk-container-id-1 div.sk-parallel-item:last-child::after {align-self: flex-start;width: 50%;}#sk-container-id-1 div.sk-parallel-item:only-child::after {width: 0;}#sk-container-id-1 div.sk-dashed-wrapped {border: 1px dashed gray;margin: 0 0.4em 0.5em 0.4em;box-sizing: border-box;padding-bottom: 0.4em;background-color: white;}#sk-container-id-1 div.sk-label label {font-family: monospace;font-weight: bold;display: inline-block;line-height: 1.2em;}#sk-container-id-1 div.sk-label-container {text-align: center;}#sk-container-id-1 div.sk-container {/* jupyter's `normalize.less` sets `[hidden] { display: none; }` but bootstrap.min.css set `[hidden] { display: none !important; }` so we also need the `!important` here to be able to override the default hidden behavior on the sphinx rendered scikit-learn.org. See: https://github.com/scikit-learn/scikit-learn/issues/21755 */display: inline-block !important;position: relative;}#sk-container-id-1 div.sk-text-repr-fallback {display: none;}</style><div id=\"sk-container-id-1\" class=\"sk-top-container\"><div class=\"sk-text-repr-fallback\"><pre>SVR(epsilon=0.2)</pre><b>In a Jupyter environment, please rerun this cell to show the HTML representation or trust the notebook. <br />On GitHub, the HTML representation is unable to render, please try loading this page with nbviewer.org.</b></div><div class=\"sk-container\" hidden><div class=\"sk-item\"><div class=\"sk-estimator sk-toggleable\"><input class=\"sk-toggleable__control sk-hidden--visually\" id=\"sk-estimator-id-1\" type=\"checkbox\" checked><label for=\"sk-estimator-id-1\" class=\"sk-toggleable__label sk-toggleable__label-arrow\">SVR</label><div class=\"sk-toggleable__content\"><pre>SVR(epsilon=0.2)</pre></div></div></div></div></div>"
      ],
      "text/plain": [
       "SVR(epsilon=0.2)"
      ]
     },
     "execution_count": 19,
     "metadata": {},
     "output_type": "execute_result"
    }
   ],
   "source": [
    "# Instantiate the Support Vector Regressor \n",
    "svr= SVR(C=1.0, epsilon=0.2)\n",
    " \n",
    "# Fit the model\n",
    "svr.fit(X_train_std, y_train)"
   ]
  },
  {
   "cell_type": "code",
   "execution_count": 20,
   "id": "d6f2b621",
   "metadata": {},
   "outputs": [],
   "source": [
    "# Make the predictions\n",
    "y_predict = svr.predict(X_test_std)"
   ]
  },
  {
   "cell_type": "code",
   "execution_count": 22,
   "id": "46032680",
   "metadata": {},
   "outputs": [
    {
     "data": {
      "text/plain": [
       "0.36624768493033644"
      ]
     },
     "execution_count": 22,
     "metadata": {},
     "output_type": "execute_result"
    }
   ],
   "source": [
    "from sklearn.metrics import r2_score , mean_squared_error\n",
    "r2_score(y_test, y_predict)"
   ]
  },
  {
   "cell_type": "code",
   "execution_count": 23,
   "id": "e03a4ed5",
   "metadata": {},
   "outputs": [
    {
     "data": {
      "text/plain": [
       "0.23532245055355572"
      ]
     },
     "execution_count": 23,
     "metadata": {},
     "output_type": "execute_result"
    }
   ],
   "source": [
    "mean_squared_error(y_test, y_predict)"
   ]
  },
  {
   "cell_type": "markdown",
   "id": "50c74c6f",
   "metadata": {},
   "source": [
    "### Reaction Time 1.5 s"
   ]
  },
  {
   "cell_type": "code",
   "execution_count": 24,
   "id": "bc4fe0ae",
   "metadata": {},
   "outputs": [],
   "source": [
    "train_df_15 = create_prediction_columns(train_df,15)"
   ]
  },
  {
   "cell_type": "code",
   "execution_count": 25,
   "id": "ae0b8a98",
   "metadata": {},
   "outputs": [],
   "source": [
    "test_df_15 = create_prediction_columns(test_df,15)"
   ]
  },
  {
   "cell_type": "code",
   "execution_count": 26,
   "id": "f6c2757a",
   "metadata": {},
   "outputs": [],
   "source": [
    "X_train = train_df_15.drop(['nextframeAcc', 'Vehicle_Class', 'Location', 'Period', 'L-F_Pair'], axis = 1)\n",
    "y_train = train_df_15['nextframeAcc']\n",
    "X_test = test_df_15.drop(['nextframeAcc', 'Vehicle_Class', 'Location', 'Period', 'L-F_Pair'], axis = 1)\n",
    "y_test = test_df_15['nextframeAcc']"
   ]
  },
  {
   "cell_type": "code",
   "execution_count": 27,
   "id": "5e675b8f",
   "metadata": {},
   "outputs": [],
   "source": [
    "sc = StandardScaler()\n",
    "sc.fit(X_train)\n",
    "X_train_std = sc.transform(X_train)\n",
    "X_test_std = sc.transform(X_test)"
   ]
  },
  {
   "cell_type": "code",
   "execution_count": 28,
   "id": "bbd2ff13",
   "metadata": {},
   "outputs": [
    {
     "data": {
      "text/html": [
       "<style>#sk-container-id-2 {color: black;background-color: white;}#sk-container-id-2 pre{padding: 0;}#sk-container-id-2 div.sk-toggleable {background-color: white;}#sk-container-id-2 label.sk-toggleable__label {cursor: pointer;display: block;width: 100%;margin-bottom: 0;padding: 0.3em;box-sizing: border-box;text-align: center;}#sk-container-id-2 label.sk-toggleable__label-arrow:before {content: \"▸\";float: left;margin-right: 0.25em;color: #696969;}#sk-container-id-2 label.sk-toggleable__label-arrow:hover:before {color: black;}#sk-container-id-2 div.sk-estimator:hover label.sk-toggleable__label-arrow:before {color: black;}#sk-container-id-2 div.sk-toggleable__content {max-height: 0;max-width: 0;overflow: hidden;text-align: left;background-color: #f0f8ff;}#sk-container-id-2 div.sk-toggleable__content pre {margin: 0.2em;color: black;border-radius: 0.25em;background-color: #f0f8ff;}#sk-container-id-2 input.sk-toggleable__control:checked~div.sk-toggleable__content {max-height: 200px;max-width: 100%;overflow: auto;}#sk-container-id-2 input.sk-toggleable__control:checked~label.sk-toggleable__label-arrow:before {content: \"▾\";}#sk-container-id-2 div.sk-estimator input.sk-toggleable__control:checked~label.sk-toggleable__label {background-color: #d4ebff;}#sk-container-id-2 div.sk-label input.sk-toggleable__control:checked~label.sk-toggleable__label {background-color: #d4ebff;}#sk-container-id-2 input.sk-hidden--visually {border: 0;clip: rect(1px 1px 1px 1px);clip: rect(1px, 1px, 1px, 1px);height: 1px;margin: -1px;overflow: hidden;padding: 0;position: absolute;width: 1px;}#sk-container-id-2 div.sk-estimator {font-family: monospace;background-color: #f0f8ff;border: 1px dotted black;border-radius: 0.25em;box-sizing: border-box;margin-bottom: 0.5em;}#sk-container-id-2 div.sk-estimator:hover {background-color: #d4ebff;}#sk-container-id-2 div.sk-parallel-item::after {content: \"\";width: 100%;border-bottom: 1px solid gray;flex-grow: 1;}#sk-container-id-2 div.sk-label:hover label.sk-toggleable__label {background-color: #d4ebff;}#sk-container-id-2 div.sk-serial::before {content: \"\";position: absolute;border-left: 1px solid gray;box-sizing: border-box;top: 0;bottom: 0;left: 50%;z-index: 0;}#sk-container-id-2 div.sk-serial {display: flex;flex-direction: column;align-items: center;background-color: white;padding-right: 0.2em;padding-left: 0.2em;position: relative;}#sk-container-id-2 div.sk-item {position: relative;z-index: 1;}#sk-container-id-2 div.sk-parallel {display: flex;align-items: stretch;justify-content: center;background-color: white;position: relative;}#sk-container-id-2 div.sk-item::before, #sk-container-id-2 div.sk-parallel-item::before {content: \"\";position: absolute;border-left: 1px solid gray;box-sizing: border-box;top: 0;bottom: 0;left: 50%;z-index: -1;}#sk-container-id-2 div.sk-parallel-item {display: flex;flex-direction: column;z-index: 1;position: relative;background-color: white;}#sk-container-id-2 div.sk-parallel-item:first-child::after {align-self: flex-end;width: 50%;}#sk-container-id-2 div.sk-parallel-item:last-child::after {align-self: flex-start;width: 50%;}#sk-container-id-2 div.sk-parallel-item:only-child::after {width: 0;}#sk-container-id-2 div.sk-dashed-wrapped {border: 1px dashed gray;margin: 0 0.4em 0.5em 0.4em;box-sizing: border-box;padding-bottom: 0.4em;background-color: white;}#sk-container-id-2 div.sk-label label {font-family: monospace;font-weight: bold;display: inline-block;line-height: 1.2em;}#sk-container-id-2 div.sk-label-container {text-align: center;}#sk-container-id-2 div.sk-container {/* jupyter's `normalize.less` sets `[hidden] { display: none; }` but bootstrap.min.css set `[hidden] { display: none !important; }` so we also need the `!important` here to be able to override the default hidden behavior on the sphinx rendered scikit-learn.org. See: https://github.com/scikit-learn/scikit-learn/issues/21755 */display: inline-block !important;position: relative;}#sk-container-id-2 div.sk-text-repr-fallback {display: none;}</style><div id=\"sk-container-id-2\" class=\"sk-top-container\"><div class=\"sk-text-repr-fallback\"><pre>SVR(epsilon=0.2)</pre><b>In a Jupyter environment, please rerun this cell to show the HTML representation or trust the notebook. <br />On GitHub, the HTML representation is unable to render, please try loading this page with nbviewer.org.</b></div><div class=\"sk-container\" hidden><div class=\"sk-item\"><div class=\"sk-estimator sk-toggleable\"><input class=\"sk-toggleable__control sk-hidden--visually\" id=\"sk-estimator-id-2\" type=\"checkbox\" checked><label for=\"sk-estimator-id-2\" class=\"sk-toggleable__label sk-toggleable__label-arrow\">SVR</label><div class=\"sk-toggleable__content\"><pre>SVR(epsilon=0.2)</pre></div></div></div></div></div>"
      ],
      "text/plain": [
       "SVR(epsilon=0.2)"
      ]
     },
     "execution_count": 28,
     "metadata": {},
     "output_type": "execute_result"
    }
   ],
   "source": [
    "# Instantiate the Support Vector Regressor \n",
    "svr= SVR(C=1.0, epsilon=0.2)\n",
    " \n",
    "# Fit the model\n",
    "svr.fit(X_train_std, y_train)"
   ]
  },
  {
   "cell_type": "code",
   "execution_count": 29,
   "id": "4c583f6b",
   "metadata": {},
   "outputs": [],
   "source": [
    "# Make the predictions\n",
    "y_predict = svr.predict(X_test_std)"
   ]
  },
  {
   "cell_type": "code",
   "execution_count": 30,
   "id": "d88d5b7f",
   "metadata": {},
   "outputs": [
    {
     "data": {
      "text/plain": [
       "0.2951248208497299"
      ]
     },
     "execution_count": 30,
     "metadata": {},
     "output_type": "execute_result"
    }
   ],
   "source": [
    "r2_score(y_test, y_predict)"
   ]
  },
  {
   "cell_type": "code",
   "execution_count": 31,
   "id": "39a1aeba",
   "metadata": {},
   "outputs": [
    {
     "data": {
      "text/plain": [
       "0.2557275699067246"
      ]
     },
     "execution_count": 31,
     "metadata": {},
     "output_type": "execute_result"
    }
   ],
   "source": [
    "mean_squared_error(y_test, y_predict)"
   ]
  },
  {
   "cell_type": "markdown",
   "id": "f674dbac",
   "metadata": {},
   "source": [
    "### Reaction Time of 2s"
   ]
  },
  {
   "cell_type": "code",
   "execution_count": 32,
   "id": "dfab94b4",
   "metadata": {},
   "outputs": [],
   "source": [
    "train_df_2= create_prediction_columns(train_df,20)"
   ]
  },
  {
   "cell_type": "code",
   "execution_count": 33,
   "id": "5855c0cd",
   "metadata": {},
   "outputs": [],
   "source": [
    "test_df_2= create_prediction_columns(test_df,20)"
   ]
  },
  {
   "cell_type": "code",
   "execution_count": 34,
   "id": "a8691b02",
   "metadata": {},
   "outputs": [],
   "source": [
    "X_train = train_df_2.drop(['nextframeAcc', 'Vehicle_Class', 'Location', 'Period', 'L-F_Pair'], axis = 1)\n",
    "y_train = train_df_2['nextframeAcc']\n",
    "X_test = test_df_2.drop(['nextframeAcc', 'Vehicle_Class', 'Location', 'Period', 'L-F_Pair'], axis = 1)\n",
    "y_test = test_df_2['nextframeAcc']"
   ]
  },
  {
   "cell_type": "code",
   "execution_count": 35,
   "id": "a2927a47",
   "metadata": {},
   "outputs": [],
   "source": [
    "sc = StandardScaler()\n",
    "sc.fit(X_train)\n",
    "X_train_std = sc.transform(X_train)\n",
    "X_test_std = sc.transform(X_test)"
   ]
  },
  {
   "cell_type": "code",
   "execution_count": 36,
   "id": "9ae11b67",
   "metadata": {},
   "outputs": [
    {
     "data": {
      "text/html": [
       "<style>#sk-container-id-3 {color: black;background-color: white;}#sk-container-id-3 pre{padding: 0;}#sk-container-id-3 div.sk-toggleable {background-color: white;}#sk-container-id-3 label.sk-toggleable__label {cursor: pointer;display: block;width: 100%;margin-bottom: 0;padding: 0.3em;box-sizing: border-box;text-align: center;}#sk-container-id-3 label.sk-toggleable__label-arrow:before {content: \"▸\";float: left;margin-right: 0.25em;color: #696969;}#sk-container-id-3 label.sk-toggleable__label-arrow:hover:before {color: black;}#sk-container-id-3 div.sk-estimator:hover label.sk-toggleable__label-arrow:before {color: black;}#sk-container-id-3 div.sk-toggleable__content {max-height: 0;max-width: 0;overflow: hidden;text-align: left;background-color: #f0f8ff;}#sk-container-id-3 div.sk-toggleable__content pre {margin: 0.2em;color: black;border-radius: 0.25em;background-color: #f0f8ff;}#sk-container-id-3 input.sk-toggleable__control:checked~div.sk-toggleable__content {max-height: 200px;max-width: 100%;overflow: auto;}#sk-container-id-3 input.sk-toggleable__control:checked~label.sk-toggleable__label-arrow:before {content: \"▾\";}#sk-container-id-3 div.sk-estimator input.sk-toggleable__control:checked~label.sk-toggleable__label {background-color: #d4ebff;}#sk-container-id-3 div.sk-label input.sk-toggleable__control:checked~label.sk-toggleable__label {background-color: #d4ebff;}#sk-container-id-3 input.sk-hidden--visually {border: 0;clip: rect(1px 1px 1px 1px);clip: rect(1px, 1px, 1px, 1px);height: 1px;margin: -1px;overflow: hidden;padding: 0;position: absolute;width: 1px;}#sk-container-id-3 div.sk-estimator {font-family: monospace;background-color: #f0f8ff;border: 1px dotted black;border-radius: 0.25em;box-sizing: border-box;margin-bottom: 0.5em;}#sk-container-id-3 div.sk-estimator:hover {background-color: #d4ebff;}#sk-container-id-3 div.sk-parallel-item::after {content: \"\";width: 100%;border-bottom: 1px solid gray;flex-grow: 1;}#sk-container-id-3 div.sk-label:hover label.sk-toggleable__label {background-color: #d4ebff;}#sk-container-id-3 div.sk-serial::before {content: \"\";position: absolute;border-left: 1px solid gray;box-sizing: border-box;top: 0;bottom: 0;left: 50%;z-index: 0;}#sk-container-id-3 div.sk-serial {display: flex;flex-direction: column;align-items: center;background-color: white;padding-right: 0.2em;padding-left: 0.2em;position: relative;}#sk-container-id-3 div.sk-item {position: relative;z-index: 1;}#sk-container-id-3 div.sk-parallel {display: flex;align-items: stretch;justify-content: center;background-color: white;position: relative;}#sk-container-id-3 div.sk-item::before, #sk-container-id-3 div.sk-parallel-item::before {content: \"\";position: absolute;border-left: 1px solid gray;box-sizing: border-box;top: 0;bottom: 0;left: 50%;z-index: -1;}#sk-container-id-3 div.sk-parallel-item {display: flex;flex-direction: column;z-index: 1;position: relative;background-color: white;}#sk-container-id-3 div.sk-parallel-item:first-child::after {align-self: flex-end;width: 50%;}#sk-container-id-3 div.sk-parallel-item:last-child::after {align-self: flex-start;width: 50%;}#sk-container-id-3 div.sk-parallel-item:only-child::after {width: 0;}#sk-container-id-3 div.sk-dashed-wrapped {border: 1px dashed gray;margin: 0 0.4em 0.5em 0.4em;box-sizing: border-box;padding-bottom: 0.4em;background-color: white;}#sk-container-id-3 div.sk-label label {font-family: monospace;font-weight: bold;display: inline-block;line-height: 1.2em;}#sk-container-id-3 div.sk-label-container {text-align: center;}#sk-container-id-3 div.sk-container {/* jupyter's `normalize.less` sets `[hidden] { display: none; }` but bootstrap.min.css set `[hidden] { display: none !important; }` so we also need the `!important` here to be able to override the default hidden behavior on the sphinx rendered scikit-learn.org. See: https://github.com/scikit-learn/scikit-learn/issues/21755 */display: inline-block !important;position: relative;}#sk-container-id-3 div.sk-text-repr-fallback {display: none;}</style><div id=\"sk-container-id-3\" class=\"sk-top-container\"><div class=\"sk-text-repr-fallback\"><pre>SVR(epsilon=0.2)</pre><b>In a Jupyter environment, please rerun this cell to show the HTML representation or trust the notebook. <br />On GitHub, the HTML representation is unable to render, please try loading this page with nbviewer.org.</b></div><div class=\"sk-container\" hidden><div class=\"sk-item\"><div class=\"sk-estimator sk-toggleable\"><input class=\"sk-toggleable__control sk-hidden--visually\" id=\"sk-estimator-id-3\" type=\"checkbox\" checked><label for=\"sk-estimator-id-3\" class=\"sk-toggleable__label sk-toggleable__label-arrow\">SVR</label><div class=\"sk-toggleable__content\"><pre>SVR(epsilon=0.2)</pre></div></div></div></div></div>"
      ],
      "text/plain": [
       "SVR(epsilon=0.2)"
      ]
     },
     "execution_count": 36,
     "metadata": {},
     "output_type": "execute_result"
    }
   ],
   "source": [
    "# Instantiate the Support Vector Regressor \n",
    "svr= SVR(C=1.0, epsilon=0.2)\n",
    " \n",
    "# Fit the model\n",
    "svr.fit(X_train_std, y_train)"
   ]
  },
  {
   "cell_type": "code",
   "execution_count": 37,
   "id": "d2601a2c",
   "metadata": {},
   "outputs": [],
   "source": [
    "# Make the predictions\n",
    "y_predict = svr.predict(X_test_std)"
   ]
  },
  {
   "cell_type": "code",
   "execution_count": 38,
   "id": "46e76765",
   "metadata": {},
   "outputs": [
    {
     "data": {
      "text/plain": [
       "0.2607642183450698"
      ]
     },
     "execution_count": 38,
     "metadata": {},
     "output_type": "execute_result"
    }
   ],
   "source": [
    "r2_score(y_test, y_predict)"
   ]
  },
  {
   "cell_type": "code",
   "execution_count": 39,
   "id": "6a700f79",
   "metadata": {},
   "outputs": [
    {
     "data": {
      "text/plain": [
       "0.2622074343817068"
      ]
     },
     "execution_count": 39,
     "metadata": {},
     "output_type": "execute_result"
    }
   ],
   "source": [
    "mean_squared_error(y_test, y_predict)"
   ]
  },
  {
   "cell_type": "code",
   "execution_count": null,
   "id": "62cccab3",
   "metadata": {},
   "outputs": [],
   "source": []
  }
 ],
 "metadata": {
  "kernelspec": {
   "display_name": "Python 3 (ipykernel)",
   "language": "python",
   "name": "python3"
  },
  "language_info": {
   "codemirror_mode": {
    "name": "ipython",
    "version": 3
   },
   "file_extension": ".py",
   "mimetype": "text/x-python",
   "name": "python",
   "nbconvert_exporter": "python",
   "pygments_lexer": "ipython3",
   "version": "3.9.16"
  }
 },
 "nbformat": 4,
 "nbformat_minor": 5
}
