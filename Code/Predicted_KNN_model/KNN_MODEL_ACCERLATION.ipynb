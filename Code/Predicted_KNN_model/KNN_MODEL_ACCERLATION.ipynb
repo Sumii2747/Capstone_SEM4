{
 "cells": [
  {
   "cell_type": "code",
   "execution_count": 1,
   "id": "9ddd7801",
   "metadata": {},
   "outputs": [],
   "source": [
    "import pandas as pd \n",
    "import numpy as np\n",
    "from sklearn.neighbors import KNeighborsRegressor \n",
    "from sklearn. model_selection import train_test_split \n",
    "from sklearn.metrics import r2_score, mean_absolute_error,mean_squared_error"
   ]
  },
  {
   "cell_type": "code",
   "execution_count": 2,
   "id": "fd5b7b93",
   "metadata": {},
   "outputs": [],
   "source": [
    "train_df = pd.read_csv(\"train_df.csv\")\n",
    "test_df = pd.read_csv(\"test_df.csv\")\n"
   ]
  },
  {
   "cell_type": "code",
   "execution_count": 3,
   "id": "2c5f577e",
   "metadata": {},
   "outputs": [],
   "source": [
    "train_df = train_df.drop(['Unnamed: 0'],axis = 1)\n",
    "test_df = test_df.drop(['Unnamed: 0'],axis = 1)"
   ]
  },
  {
   "cell_type": "code",
   "execution_count": 4,
   "id": "785c858c",
   "metadata": {},
   "outputs": [],
   "source": [
    " def create_prediction_columns(df, n):\n",
    "        '''\n",
    "        create the prediction pair by shifting the actual data up by the mentioned number(0.1*n seconds) to create the timeseries info\n",
    "        '''\n",
    "        df[\"nextframeAcc\"] = df.groupby(\n",
    "            [\"L-F_Pair\"], as_index=False)[\"v_Acc\"].shift(-1*n)\n",
    "        df[\"nextframesvel\"] = df.groupby(\n",
    "            [\"L-F_Pair\"], as_index=False)[\"v_Vel\"].shift(-1*n)\n",
    "        df[\"nextframeposition\"] = df.groupby(\n",
    "            [\"L-F_Pair\"], as_index=False)[\"Local_Y\"].shift(-1*n)\n",
    "        df[\"nextFrameSpacing\"] = df.groupby(\n",
    "            [\"L-F_Pair\"], as_index=False)[\"Space_Gap\"].shift(-1*n)\n",
    "        df[\"precnextframesvel\"] = df.groupby(\n",
    "            [\"L-F_Pair\"], as_index=False)[\"v_Vel_preceding\"].shift(-1*n)\n",
    "        df = df[df['nextframeposition'].notna()]\n",
    "        df = df[df['nextframesvel'].notna()]\n",
    "        df = df[df['nextframeAcc'].notna()]\n",
    "        df = df[df['nextFrameSpacing'].notna()]\n",
    "        df = df[df['precnextframesvel'].notna()]\n",
    "\n",
    "        return df"
   ]
  },
  {
   "cell_type": "code",
   "execution_count": 5,
   "id": "84994c4d",
   "metadata": {},
   "outputs": [],
   "source": [
    "train_df_5 = create_prediction_columns(train_df,5)"
   ]
  },
  {
   "cell_type": "code",
   "execution_count": 6,
   "id": "3f834694",
   "metadata": {},
   "outputs": [],
   "source": [
    "test_df_5 = create_prediction_columns(test_df,5)"
   ]
  },
  {
   "cell_type": "markdown",
   "id": "778b34f4",
   "metadata": {},
   "source": [
    "### K-NEAREST NEIGHBOR"
   ]
  },
  {
   "cell_type": "code",
   "execution_count": 7,
   "id": "3b990fb2",
   "metadata": {},
   "outputs": [],
   "source": [
    "from sklearn.neighbors import KNeighborsRegressor \n",
    "from sklearn. model_selection import train_test_split \n",
    "from sklearn.metrics import r2_score,mean_squared_error"
   ]
  },
  {
   "cell_type": "code",
   "execution_count": 8,
   "id": "2585776e",
   "metadata": {},
   "outputs": [],
   "source": [
    "X_train = train_df_5.drop(['nextframeAcc', 'Vehicle_Class', 'Location', 'Period', 'L-F_Pair'], axis = 1)\n",
    "y_train = train_df_5['nextframeAcc']\n",
    "X_test = test_df_5.drop(['nextframeAcc', 'Vehicle_Class', 'Location', 'Period', 'L-F_Pair'], axis = 1)\n",
    "y_test = test_df_5['nextframeAcc']"
   ]
  },
  {
   "cell_type": "code",
   "execution_count": 9,
   "id": "5f95fe3c",
   "metadata": {},
   "outputs": [],
   "source": [
    "knn_regressor = KNeighborsRegressor(n_neighbors=1250)\n",
    "knn_regressor.fit(X_train, y_train)\n",
    "y_test_pred_5= knn_regressor.predict(X_test)"
   ]
  },
  {
   "cell_type": "code",
   "execution_count": 10,
   "id": "ff9ed4e9",
   "metadata": {},
   "outputs": [
    {
     "data": {
      "text/plain": [
       "0.07523423528894979"
      ]
     },
     "execution_count": 10,
     "metadata": {},
     "output_type": "execute_result"
    }
   ],
   "source": [
    "r2_score(y_test, y_test_pred_5)"
   ]
  },
  {
   "cell_type": "code",
   "execution_count": 11,
   "id": "25fc8c32",
   "metadata": {},
   "outputs": [
    {
     "data": {
      "text/plain": [
       "0.5970522388916832"
      ]
     },
     "execution_count": 11,
     "metadata": {},
     "output_type": "execute_result"
    }
   ],
   "source": [
    "mean_squared_error(y_test, y_test_pred_5, squared=False)"
   ]
  },
  {
   "cell_type": "markdown",
   "id": "ebd18133",
   "metadata": {},
   "source": [
    "### Reaction time of 1s"
   ]
  },
  {
   "cell_type": "code",
   "execution_count": 12,
   "id": "b7e969b0",
   "metadata": {},
   "outputs": [],
   "source": [
    "train_df_10 = create_prediction_columns(train_df,10)"
   ]
  },
  {
   "cell_type": "code",
   "execution_count": 13,
   "id": "a7dd9582",
   "metadata": {},
   "outputs": [],
   "source": [
    "test_df_10 = create_prediction_columns(test_df,10)"
   ]
  },
  {
   "cell_type": "code",
   "execution_count": 14,
   "id": "8be3007e",
   "metadata": {},
   "outputs": [],
   "source": [
    "X_train = train_df_10.drop(['nextframeAcc', 'Vehicle_Class', 'Location', 'Period', 'L-F_Pair'], axis = 1)\n",
    "y_train = train_df_10['nextframeAcc']\n",
    "X_test = test_df_10.drop(['nextframeAcc', 'Vehicle_Class', 'Location', 'Period', 'L-F_Pair'], axis = 1)\n",
    "y_test = test_df_10['nextframeAcc']"
   ]
  },
  {
   "cell_type": "code",
   "execution_count": 15,
   "id": "2983390f",
   "metadata": {},
   "outputs": [],
   "source": [
    "knn_regressor = KNeighborsRegressor(n_neighbors=5)\n",
    "knn_regressor.fit(X_train, y_train)\n",
    "y_test_pred_1 = knn_regressor.predict(X_test)"
   ]
  },
  {
   "cell_type": "code",
   "execution_count": 16,
   "id": "f1215a88",
   "metadata": {
    "scrolled": true
   },
   "outputs": [
    {
     "data": {
      "text/plain": [
       "0.15573949166858136"
      ]
     },
     "execution_count": 16,
     "metadata": {},
     "output_type": "execute_result"
    }
   ],
   "source": [
    "r2_score(y_test, y_test_pred_1)"
   ]
  },
  {
   "cell_type": "code",
   "execution_count": 17,
   "id": "4b4fb183",
   "metadata": {},
   "outputs": [
    {
     "data": {
      "text/plain": [
       "0.5598995767672544"
      ]
     },
     "execution_count": 17,
     "metadata": {},
     "output_type": "execute_result"
    }
   ],
   "source": [
    "mean_squared_error(y_test, y_test_pred_1, squared=False)"
   ]
  },
  {
   "cell_type": "markdown",
   "id": "097f6fa3",
   "metadata": {},
   "source": [
    "### Reaction time of 1.5s"
   ]
  },
  {
   "cell_type": "code",
   "execution_count": 18,
   "id": "f645fa88",
   "metadata": {},
   "outputs": [],
   "source": [
    "train_df_15 = create_prediction_columns(train_df,15)"
   ]
  },
  {
   "cell_type": "code",
   "execution_count": 19,
   "id": "9ee6862f",
   "metadata": {},
   "outputs": [],
   "source": [
    "test_df_15 = create_prediction_columns(test_df,15)"
   ]
  },
  {
   "cell_type": "code",
   "execution_count": 20,
   "id": "374cf724",
   "metadata": {},
   "outputs": [],
   "source": [
    "X_train = train_df_15.drop(['nextframeAcc', 'Vehicle_Class', 'Location', 'Period', 'L-F_Pair'], axis = 1)\n",
    "y_train = train_df_15['nextframeAcc']\n",
    "X_test = test_df_15.drop(['nextframeAcc', 'Vehicle_Class', 'Location', 'Period', 'L-F_Pair'], axis = 1)\n",
    "y_test = test_df_15['nextframeAcc']"
   ]
  },
  {
   "cell_type": "code",
   "execution_count": 21,
   "id": "9821aacd",
   "metadata": {},
   "outputs": [],
   "source": [
    "knn_regressor = KNeighborsRegressor(n_neighbors=5)\n",
    "knn_regressor.fit(X_train, y_train)\n",
    "y_test_pred_15 = knn_regressor.predict(X_test)"
   ]
  },
  {
   "cell_type": "code",
   "execution_count": 22,
   "id": "97a27a75",
   "metadata": {},
   "outputs": [
    {
     "data": {
      "text/plain": [
       "-0.4555840992412654"
      ]
     },
     "execution_count": 22,
     "metadata": {},
     "output_type": "execute_result"
    }
   ],
   "source": [
    "r2_score(y_test, y_test_pred_15)"
   ]
  },
  {
   "cell_type": "code",
   "execution_count": 23,
   "id": "35631c9f",
   "metadata": {},
   "outputs": [
    {
     "data": {
      "text/plain": [
       "0.726693571299884"
      ]
     },
     "execution_count": 23,
     "metadata": {},
     "output_type": "execute_result"
    }
   ],
   "source": [
    "mean_squared_error(y_test, y_test_pred_15, squared=False)"
   ]
  },
  {
   "cell_type": "markdown",
   "id": "f89aa6eb",
   "metadata": {},
   "source": [
    "### Reaction time of 2s"
   ]
  },
  {
   "cell_type": "code",
   "execution_count": 24,
   "id": "39cc01ff",
   "metadata": {},
   "outputs": [],
   "source": [
    "train_df_20 = create_prediction_columns(train_df,20)"
   ]
  },
  {
   "cell_type": "code",
   "execution_count": 25,
   "id": "65709058",
   "metadata": {},
   "outputs": [],
   "source": [
    "test_df_20 = create_prediction_columns(test_df,20)"
   ]
  },
  {
   "cell_type": "code",
   "execution_count": 26,
   "id": "d64fd05e",
   "metadata": {},
   "outputs": [],
   "source": [
    "X_train = train_df_20.drop(['nextframeAcc', 'Vehicle_Class', 'Location', 'Period', 'L-F_Pair'], axis = 1)\n",
    "y_train = train_df_20['nextframeAcc']\n",
    "X_test = test_df_20.drop(['nextframeAcc', 'Vehicle_Class', 'Location', 'Period', 'L-F_Pair'], axis = 1)\n",
    "y_test = test_df_20['nextframeAcc']"
   ]
  },
  {
   "cell_type": "code",
   "execution_count": 27,
   "id": "842d3e6b",
   "metadata": {},
   "outputs": [
    {
     "data": {
      "text/html": [
       "<style>#sk-container-id-1 {color: black;background-color: white;}#sk-container-id-1 pre{padding: 0;}#sk-container-id-1 div.sk-toggleable {background-color: white;}#sk-container-id-1 label.sk-toggleable__label {cursor: pointer;display: block;width: 100%;margin-bottom: 0;padding: 0.3em;box-sizing: border-box;text-align: center;}#sk-container-id-1 label.sk-toggleable__label-arrow:before {content: \"▸\";float: left;margin-right: 0.25em;color: #696969;}#sk-container-id-1 label.sk-toggleable__label-arrow:hover:before {color: black;}#sk-container-id-1 div.sk-estimator:hover label.sk-toggleable__label-arrow:before {color: black;}#sk-container-id-1 div.sk-toggleable__content {max-height: 0;max-width: 0;overflow: hidden;text-align: left;background-color: #f0f8ff;}#sk-container-id-1 div.sk-toggleable__content pre {margin: 0.2em;color: black;border-radius: 0.25em;background-color: #f0f8ff;}#sk-container-id-1 input.sk-toggleable__control:checked~div.sk-toggleable__content {max-height: 200px;max-width: 100%;overflow: auto;}#sk-container-id-1 input.sk-toggleable__control:checked~label.sk-toggleable__label-arrow:before {content: \"▾\";}#sk-container-id-1 div.sk-estimator input.sk-toggleable__control:checked~label.sk-toggleable__label {background-color: #d4ebff;}#sk-container-id-1 div.sk-label input.sk-toggleable__control:checked~label.sk-toggleable__label {background-color: #d4ebff;}#sk-container-id-1 input.sk-hidden--visually {border: 0;clip: rect(1px 1px 1px 1px);clip: rect(1px, 1px, 1px, 1px);height: 1px;margin: -1px;overflow: hidden;padding: 0;position: absolute;width: 1px;}#sk-container-id-1 div.sk-estimator {font-family: monospace;background-color: #f0f8ff;border: 1px dotted black;border-radius: 0.25em;box-sizing: border-box;margin-bottom: 0.5em;}#sk-container-id-1 div.sk-estimator:hover {background-color: #d4ebff;}#sk-container-id-1 div.sk-parallel-item::after {content: \"\";width: 100%;border-bottom: 1px solid gray;flex-grow: 1;}#sk-container-id-1 div.sk-label:hover label.sk-toggleable__label {background-color: #d4ebff;}#sk-container-id-1 div.sk-serial::before {content: \"\";position: absolute;border-left: 1px solid gray;box-sizing: border-box;top: 0;bottom: 0;left: 50%;z-index: 0;}#sk-container-id-1 div.sk-serial {display: flex;flex-direction: column;align-items: center;background-color: white;padding-right: 0.2em;padding-left: 0.2em;position: relative;}#sk-container-id-1 div.sk-item {position: relative;z-index: 1;}#sk-container-id-1 div.sk-parallel {display: flex;align-items: stretch;justify-content: center;background-color: white;position: relative;}#sk-container-id-1 div.sk-item::before, #sk-container-id-1 div.sk-parallel-item::before {content: \"\";position: absolute;border-left: 1px solid gray;box-sizing: border-box;top: 0;bottom: 0;left: 50%;z-index: -1;}#sk-container-id-1 div.sk-parallel-item {display: flex;flex-direction: column;z-index: 1;position: relative;background-color: white;}#sk-container-id-1 div.sk-parallel-item:first-child::after {align-self: flex-end;width: 50%;}#sk-container-id-1 div.sk-parallel-item:last-child::after {align-self: flex-start;width: 50%;}#sk-container-id-1 div.sk-parallel-item:only-child::after {width: 0;}#sk-container-id-1 div.sk-dashed-wrapped {border: 1px dashed gray;margin: 0 0.4em 0.5em 0.4em;box-sizing: border-box;padding-bottom: 0.4em;background-color: white;}#sk-container-id-1 div.sk-label label {font-family: monospace;font-weight: bold;display: inline-block;line-height: 1.2em;}#sk-container-id-1 div.sk-label-container {text-align: center;}#sk-container-id-1 div.sk-container {/* jupyter's `normalize.less` sets `[hidden] { display: none; }` but bootstrap.min.css set `[hidden] { display: none !important; }` so we also need the `!important` here to be able to override the default hidden behavior on the sphinx rendered scikit-learn.org. See: https://github.com/scikit-learn/scikit-learn/issues/21755 */display: inline-block !important;position: relative;}#sk-container-id-1 div.sk-text-repr-fallback {display: none;}</style><div id=\"sk-container-id-1\" class=\"sk-top-container\"><div class=\"sk-text-repr-fallback\"><pre>KNeighborsRegressor(n_neighbors=150)</pre><b>In a Jupyter environment, please rerun this cell to show the HTML representation or trust the notebook. <br />On GitHub, the HTML representation is unable to render, please try loading this page with nbviewer.org.</b></div><div class=\"sk-container\" hidden><div class=\"sk-item\"><div class=\"sk-estimator sk-toggleable\"><input class=\"sk-toggleable__control sk-hidden--visually\" id=\"sk-estimator-id-1\" type=\"checkbox\" checked><label for=\"sk-estimator-id-1\" class=\"sk-toggleable__label sk-toggleable__label-arrow\">KNeighborsRegressor</label><div class=\"sk-toggleable__content\"><pre>KNeighborsRegressor(n_neighbors=150)</pre></div></div></div></div></div>"
      ],
      "text/plain": [
       "KNeighborsRegressor(n_neighbors=150)"
      ]
     },
     "execution_count": 27,
     "metadata": {},
     "output_type": "execute_result"
    }
   ],
   "source": [
    "knn_regressor = KNeighborsRegressor(n_neighbors=5)\n",
    "knn_regressor.fit(X_train, y_train)\n"
   ]
  },
  {
   "cell_type": "code",
   "execution_count": 28,
   "id": "30ee3a20",
   "metadata": {},
   "outputs": [],
   "source": [
    "def predict_test_dataset(knn_regressor,X_test, y_test):\n",
    "    predicted_values = knn_regressor.predict(X_test)\n",
    "    r_square = knn_regressor.score(X_test, y_test)\n",
    "    rmse = np.sqrt(mean_squared_error(y_test, predicted_values))\n",
    "    return r_square, rmse\n"
   ]
  },
  {
   "cell_type": "code",
   "execution_count": 29,
   "id": "eb783d8e",
   "metadata": {},
   "outputs": [],
   "source": [
    "r_square, rmse = predict_test_dataset(knn_regressor, X_test, y_test)\n"
   ]
  },
  {
   "cell_type": "code",
   "execution_count": 30,
   "id": "01ee04e4",
   "metadata": {},
   "outputs": [
    {
     "name": "stdout",
     "output_type": "stream",
     "text": [
      "R-squared: 0.13996129035620375\n",
      "RMSE: 0.5523190337811216\n"
     ]
    }
   ],
   "source": [
    "print(\"R-squared:\", r_square)\n",
    "print(\"RMSE:\", rmse)\n"
   ]
  },
  {
   "cell_type": "code",
   "execution_count": null,
   "id": "db642c61",
   "metadata": {},
   "outputs": [],
   "source": []
  }
 ],
 "metadata": {
  "kernelspec": {
   "display_name": "Python 3 (ipykernel)",
   "language": "python",
   "name": "python3"
  },
  "language_info": {
   "codemirror_mode": {
    "name": "ipython",
    "version": 3
   },
   "file_extension": ".py",
   "mimetype": "text/x-python",
   "name": "python",
   "nbconvert_exporter": "python",
   "pygments_lexer": "ipython3",
   "version": "3.9.16"
  }
 },
 "nbformat": 4,
 "nbformat_minor": 5
}
